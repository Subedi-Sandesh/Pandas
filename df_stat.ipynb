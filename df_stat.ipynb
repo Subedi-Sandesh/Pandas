{
 "cells": [
  {
   "cell_type": "code",
   "execution_count": 1,
   "id": "761f7760",
   "metadata": {},
   "outputs": [],
   "source": [
    "import pandas as pd\n",
    "import matplotlib.pyplot as plt"
   ]
  },
  {
   "cell_type": "markdown",
   "id": "7b1b8dbf",
   "metadata": {},
   "source": [
    "## DataFrame\n"
   ]
  },
  {
   "cell_type": "code",
   "execution_count": 2,
   "id": "bb8bcc8a",
   "metadata": {},
   "outputs": [],
   "source": [
    "data = {\n",
    "    \"Name\" : ['Bob', 'John', 'Mike', 'Anna'],\n",
    "    \"Age\"  : [21, 43, 22, 18],\n",
    "    \"Height\": [145, 122, 154, 182],\n",
    "    \"Gender\": ['M','M', 'M', 'F'],\n",
    "    \"SSN\" : [121, 333, 511, 822]\n",
    "    \n",
    "}"
   ]
  },
  {
   "cell_type": "code",
   "execution_count": 3,
   "id": "813894b7",
   "metadata": {},
   "outputs": [],
   "source": [
    "df = pd.DataFrame(data)\n",
    "df.set_index('SSN', inplace = True) #index can also be set as the key in dict."
   ]
  },
  {
   "cell_type": "code",
   "execution_count": 4,
   "id": "d2795dcc",
   "metadata": {},
   "outputs": [
    {
     "name": "stdout",
     "output_type": "stream",
     "text": [
      "     Name  Age  Height Gender\n",
      "SSN                          \n",
      "121   Bob   21     145      M\n",
      "333  John   43     122      M\n",
      "511  Mike   22     154      M\n",
      "822  Anna   18     182      F\n"
     ]
    }
   ],
   "source": [
    "print(df) #row = index"
   ]
  },
  {
   "cell_type": "markdown",
   "id": "dce34f94",
   "metadata": {},
   "source": [
    "### Basic Attributes and Function"
   ]
  },
  {
   "cell_type": "code",
   "execution_count": 5,
   "id": "ad323d68",
   "metadata": {},
   "outputs": [
    {
     "name": "stdout",
     "output_type": "stream",
     "text": [
      "     Name  Age  Height Gender\n",
      "SSN                          \n",
      "121   Bob   21     145      M\n",
      "333  John   43     122      M\n",
      "511  Mike   22     154      M\n"
     ]
    }
   ],
   "source": [
    "print(df.head(3)) #first 3 rows"
   ]
  },
  {
   "cell_type": "code",
   "execution_count": 6,
   "id": "c60a3c42",
   "metadata": {},
   "outputs": [
    {
     "name": "stdout",
     "output_type": "stream",
     "text": [
      "     Name  Age  Height Gender\n",
      "SSN                          \n",
      "511  Mike   22     154      M\n",
      "822  Anna   18     182      F\n"
     ]
    }
   ],
   "source": [
    "print(df.tail(2)) #last 2 rows"
   ]
  },
  {
   "cell_type": "code",
   "execution_count": 7,
   "id": "656e8667",
   "metadata": {},
   "outputs": [
    {
     "name": "stdout",
     "output_type": "stream",
     "text": [
      "2\n",
      "(4, 4)\n",
      "16\n",
      "Name      object\n",
      "Age        int64\n",
      "Height     int64\n",
      "Gender    object\n",
      "dtype: object\n"
     ]
    }
   ],
   "source": [
    "#Basic numpy attributes\n",
    "print(df.ndim)\n",
    "print(df.shape) #index column is not counted.\n",
    "print(df.size)\n",
    "print(df.dtypes)"
   ]
  },
  {
   "cell_type": "code",
   "execution_count": 8,
   "id": "183d01b6",
   "metadata": {},
   "outputs": [
    {
     "name": "stdout",
     "output_type": "stream",
     "text": [
      "SSN     121   333   511   822\n",
      "Name    Bob  John  Mike  Anna\n",
      "Age      21    43    22    18\n",
      "Height  145   122   154   182\n",
      "Gender    M     M     M     F\n"
     ]
    }
   ],
   "source": [
    "print(df.T) #Transpose of the df. swap rows and columns"
   ]
  },
  {
   "cell_type": "code",
   "execution_count": 9,
   "id": "a61b2624",
   "metadata": {},
   "outputs": [
    {
     "name": "stdout",
     "output_type": "stream",
     "text": [
      "Name      John\n",
      "Age         43\n",
      "Height     122\n",
      "Gender       M\n",
      "Name: 333, dtype: object\n"
     ]
    }
   ],
   "source": [
    "print(df.iloc[1]) #gives the data of the index 1"
   ]
  },
  {
   "cell_type": "code",
   "execution_count": 10,
   "id": "0950c02c",
   "metadata": {},
   "outputs": [
    {
     "name": "stdout",
     "output_type": "stream",
     "text": [
      "     Name  Age  Height Gender\n",
      "SSN                          \n",
      "121   Bob   21     145      M\n",
      "333  John   43     122      M\n",
      "511  Mike   22     154      M\n"
     ]
    }
   ],
   "source": [
    "print(df.iloc[0:3])"
   ]
  },
  {
   "cell_type": "markdown",
   "id": "5c8607fa",
   "metadata": {},
   "source": [
    "### Plotting the data"
   ]
  },
  {
   "cell_type": "code",
   "execution_count": 12,
   "id": "8d546d57",
   "metadata": {},
   "outputs": [
    {
     "data": {
      "image/png": "[encoded data removed]",
      "text/plain": [
       "<Figure size 640x480 with 1 Axes>"
      ]
     },
     "metadata": {},
     "output_type": "display_data"
    }
   ],
   "source": [
    "df.plot.bar() #ignores the name and gender section\n",
    "plt.show()"
   ]
  },
  {
   "cell_type": "markdown",
   "id": "8bf1b1fb",
   "metadata": {},
   "source": [
    "## Pandas Statistics"
   ]
  },
  {
   "cell_type": "code",
   "execution_count": 13,
   "id": "07d83fa7",
   "metadata": {},
   "outputs": [
    {
     "name": "stdout",
     "output_type": "stream",
     "text": [
      "Name      4\n",
      "Age       4\n",
      "Height    4\n",
      "Gender    4\n",
      "dtype: int64\n",
      "4\n"
     ]
    }
   ],
   "source": [
    "print(df.count())\n",
    "print(df['Name'].count())"
   ]
  },
  {
   "cell_type": "code",
   "execution_count": 21,
   "id": "65845820",
   "metadata": {},
   "outputs": [
    {
     "name": "stdout",
     "output_type": "stream",
     "text": [
      "BobJohnMikeAnna\n",
      "495815320\n",
      "150.75\n",
      "149.5\n"
     ]
    }
   ],
   "source": [
    "print(df['Name'].sum())\n",
    "print(df['Height'].prod()) #product\n",
    "print(df['Height'].mean())\n",
    "print(df['Height'].median())"
   ]
  },
  {
   "cell_type": "code",
   "execution_count": 22,
   "id": "5c55959c",
   "metadata": {},
   "outputs": [
    {
     "name": "stdout",
     "output_type": "stream",
     "text": [
      "0    122\n",
      "1    145\n",
      "2    154\n",
      "3    182\n",
      "Name: Height, dtype: int64\n"
     ]
    }
   ],
   "source": [
    "print(df['Height'].mode())"
   ]
  },
  {
   "cell_type": "code",
   "execution_count": 24,
   "id": "5ece69d7",
   "metadata": {},
   "outputs": [
    {
     "name": "stdout",
     "output_type": "stream",
     "text": [
      "24.810951882854745\n"
     ]
    }
   ],
   "source": [
    "print(df['Height'].std()) #deviation from expected value"
   ]
  },
  {
   "cell_type": "code",
   "execution_count": 25,
   "id": "5a2c28e8",
   "metadata": {},
   "outputs": [
    {
     "name": "stdout",
     "output_type": "stream",
     "text": [
      "count      4.000000\n",
      "mean     150.750000\n",
      "std       24.810952\n",
      "min      122.000000\n",
      "25%      139.250000\n",
      "50%      149.500000\n",
      "75%      161.000000\n",
      "max      182.000000\n",
      "Name: Height, dtype: float64\n"
     ]
    }
   ],
   "source": [
    "print(df['Height'].describe())"
   ]
  },
  {
   "cell_type": "code",
   "execution_count": 27,
   "id": "fa1e4ca2",
   "metadata": {},
   "outputs": [
    {
     "name": "stdout",
     "output_type": "stream",
     "text": [
      "             Age      Height\n",
      "count   4.000000    4.000000\n",
      "mean   26.000000  150.750000\n",
      "std    11.460076   24.810952\n",
      "min    18.000000  122.000000\n",
      "25%    20.250000  139.250000\n",
      "50%    21.500000  149.500000\n",
      "75%    27.250000  161.000000\n",
      "max    43.000000  182.000000\n"
     ]
    }
   ],
   "source": [
    "print(df.describe())"
   ]
  },
  {
   "cell_type": "code",
   "execution_count": null,
   "id": "69795abf",
   "metadata": {},
   "outputs": [],
   "source": []
  }
 ],
 "metadata": {
  "kernelspec": {
   "display_name": "Python 3 (ipykernel)",
   "language": "python",
   "name": "python3"
  },
  "language_info": {
   "codemirror_mode": {
    "name": "ipython",
    "version": 3
   },
   "file_extension": ".py",
   "mimetype": "text/x-python",
   "name": "python",
   "nbconvert_exporter": "python",
   "pygments_lexer": "ipython3",
   "version": "3.12.3"
  }
 },
 "nbformat": 4,
 "nbformat_minor": 5
}
