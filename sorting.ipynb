{
 "cells": [
  {
   "cell_type": "code",
   "execution_count": 5,
   "id": "bf9af73c",
   "metadata": {},
   "outputs": [],
   "source": [
    "import pandas as pd\n",
    "import numpy as np"
   ]
  },
  {
   "cell_type": "code",
   "execution_count": 7,
   "id": "b2bb6714",
   "metadata": {},
   "outputs": [],
   "source": [
    "df = pd.read_csv('Welcome program.csv')"
   ]
  },
  {
   "cell_type": "code",
   "execution_count": 9,
   "id": "c69ef1e5",
   "metadata": {},
   "outputs": [
    {
     "data": {
      "text/html": [
       "<div>\n",
       "<style scoped>\n",
       "    .dataframe tbody tr th:only-of-type {\n",
       "        vertical-align: middle;\n",
       "    }\n",
       "\n",
       "    .dataframe tbody tr th {\n",
       "        vertical-align: top;\n",
       "    }\n",
       "\n",
       "    .dataframe thead th {\n",
       "        text-align: right;\n",
       "    }\n",
       "</style>\n",
       "<table border=\"1\" class=\"dataframe\">\n",
       "  <thead>\n",
       "    <tr style=\"text-align: right;\">\n",
       "      <th></th>\n",
       "      <th>Timestamp</th>\n",
       "      <th>Username</th>\n",
       "      <th>Name:</th>\n",
       "      <th>IOE roll no:</th>\n",
       "      <th>Personal Email:</th>\n",
       "      <th>Phone number:</th>\n",
       "      <th>Preference:</th>\n",
       "      <th>Pickup location:</th>\n",
       "      <th>Any suggestions for seniors ?</th>\n",
       "    </tr>\n",
       "  </thead>\n",
       "  <tbody>\n",
       "    <tr>\n",
       "      <th>0</th>\n",
       "      <td>2024/12/25 4:42:21 PM GMT+5:45</td>\n",
       "      <td>prakatsharma064@gmail.com</td>\n",
       "      <td>Prakat Sharma</td>\n",
       "      <td>PAS081BCT024</td>\n",
       "      <td>prakatsharma064@gmail.com</td>\n",
       "      <td>9846783011</td>\n",
       "      <td>Non-Veg</td>\n",
       "      <td>WRC college</td>\n",
       "      <td>NaN</td>\n",
       "    </tr>\n",
       "    <tr>\n",
       "      <th>1</th>\n",
       "      <td>2024/12/25 4:43:28 PM GMT+5:45</td>\n",
       "      <td>pranjaljoshi095@gmail.com</td>\n",
       "      <td>Pranjal Joshi</td>\n",
       "      <td>PAS081BCT026</td>\n",
       "      <td>pranjaljoshi095@gmail.com</td>\n",
       "      <td>9868553466</td>\n",
       "      <td>Veg</td>\n",
       "      <td>WRC college</td>\n",
       "      <td>NaN</td>\n",
       "    </tr>\n",
       "    <tr>\n",
       "      <th>2</th>\n",
       "      <td>2024/12/25 4:48:16 PM GMT+5:45</td>\n",
       "      <td>rizalaryan2@gmail.com</td>\n",
       "      <td>Adip Rijal</td>\n",
       "      <td>PAS081BCT005</td>\n",
       "      <td>rizalaryan2@gmail.com</td>\n",
       "      <td>9804456004</td>\n",
       "      <td>Veg</td>\n",
       "      <td>WRC college</td>\n",
       "      <td>Where are other details?\\nDate, time, .....</td>\n",
       "    </tr>\n",
       "    <tr>\n",
       "      <th>3</th>\n",
       "      <td>2024/12/25 4:49:13 PM GMT+5:45</td>\n",
       "      <td>pas081bct037@wrc.edu.np</td>\n",
       "      <td>Shishir Bastakoti</td>\n",
       "      <td>pas081bct037</td>\n",
       "      <td>shishirbastakoti1@gmail.com</td>\n",
       "      <td>9817547167</td>\n",
       "      <td>Non-Veg</td>\n",
       "      <td>WRC college</td>\n",
       "      <td>Make program interesting and unforgettable whi...</td>\n",
       "    </tr>\n",
       "    <tr>\n",
       "      <th>4</th>\n",
       "      <td>2024/12/25 4:49:20 PM GMT+5:45</td>\n",
       "      <td>sahaanand59@gmail.com</td>\n",
       "      <td>Aanand Kumar Sah</td>\n",
       "      <td>PAS081BCT001</td>\n",
       "      <td>sahaanand59@gmail.com</td>\n",
       "      <td>9826361006</td>\n",
       "      <td>Veg</td>\n",
       "      <td>WRC college</td>\n",
       "      <td>NaN</td>\n",
       "    </tr>\n",
       "  </tbody>\n",
       "</table>\n",
       "</div>"
      ],
      "text/plain": [
       "                        Timestamp                   Username  \\\n",
       "0  2024/12/25 4:42:21 PM GMT+5:45  prakatsharma064@gmail.com   \n",
       "1  2024/12/25 4:43:28 PM GMT+5:45  pranjaljoshi095@gmail.com   \n",
       "2  2024/12/25 4:48:16 PM GMT+5:45      rizalaryan2@gmail.com   \n",
       "3  2024/12/25 4:49:13 PM GMT+5:45    pas081bct037@wrc.edu.np   \n",
       "4  2024/12/25 4:49:20 PM GMT+5:45      sahaanand59@gmail.com   \n",
       "\n",
       "                Name:  IOE roll no:              Personal Email:  \\\n",
       "0       Prakat Sharma  PAS081BCT024    prakatsharma064@gmail.com   \n",
       "1       Pranjal Joshi  PAS081BCT026    pranjaljoshi095@gmail.com   \n",
       "2         Adip Rijal   PAS081BCT005        rizalaryan2@gmail.com   \n",
       "3  Shishir Bastakoti   pas081bct037  shishirbastakoti1@gmail.com   \n",
       "4    Aanand Kumar Sah  PAS081BCT001        sahaanand59@gmail.com   \n",
       "\n",
       "   Phone number: Preference: Pickup location:  \\\n",
       "0     9846783011     Non-Veg      WRC college   \n",
       "1     9868553466         Veg      WRC college   \n",
       "2     9804456004         Veg      WRC college   \n",
       "3     9817547167     Non-Veg      WRC college   \n",
       "4     9826361006         Veg      WRC college   \n",
       "\n",
       "                       Any suggestions for seniors ?  \n",
       "0                                                NaN  \n",
       "1                                                NaN  \n",
       "2        Where are other details?\\nDate, time, .....  \n",
       "3  Make program interesting and unforgettable whi...  \n",
       "4                                                NaN  "
      ]
     },
     "execution_count": 9,
     "metadata": {},
     "output_type": "execute_result"
    }
   ],
   "source": [
    "df.head(5)"
   ]
  },
  {
   "cell_type": "code",
   "execution_count": 12,
   "id": "15dbc24a",
   "metadata": {},
   "outputs": [
    {
     "name": "stdout",
     "output_type": "stream",
     "text": [
      "Timestamp\n",
      "Username\n",
      "Name:\n",
      "IOE roll no:\n",
      "Personal Email:\n",
      "Phone number:\n",
      "Preference:\n",
      "Pickup location:\n",
      "Any suggestions for seniors ?\n"
     ]
    }
   ],
   "source": [
    "for x in df: #prints the column name\n",
    "    print(x)"
   ]
  },
  {
   "cell_type": "code",
   "execution_count": 22,
   "id": "54b2aae2",
   "metadata": {},
   "outputs": [
    {
     "name": "stdout",
     "output_type": "stream",
     "text": [
      "Aagaman Kandel\n",
      "Aanand Kumar Sah\n",
      "Aayushman Bastola \n",
      "Abhinit Pradhan\n",
      "Adip Rijal \n",
      "Anish Bartaula \n",
      "Anjal Poudel\n",
      "Anmol Rajbhandari \n",
      "Anuj adhikari \n",
      "Anuska Acharya \n",
      "Ashim Adhikari\n",
      "Barun Lamsal\n",
      "Darshan Paudel \n",
      "Deepan K.C.\n",
      "Kapil Bhandari \n",
      "Kiran Dhungana \n",
      "Krishnaram Thapaliya\n",
      "Meghraj Poudel\n",
      "Nitu Purbey \n",
      "Prabhat Dhakal\n",
      "Pragya khanal \n",
      "Prakat Sharma\n",
      "Prakriti Subedi\n",
      "Pranjal Joshi\n",
      "Rebika Parajuli\n",
      "Rhydim Shrestha \n",
      "Sagun Bastola\n",
      "Saksham Rijal\n",
      "Salfet Sigdel \n",
      "Sarun Bishwakarma\n",
      "Saugat Bhattarai\n",
      "Shaswat Sigdel \n",
      "Shishir Bastakoti \n",
      "Sodiksha Upadhyaya\n",
      "Sudeesh Acharya\n",
      "Sujan Babu Dhungana  \n",
      "Sujeet Agrahari\n",
      "Sulochana Subedi\n",
      "Susan Chhantyal\n",
      "Swapnil Gautam \n",
      "Swarnim Ranabhat \n",
      "Utsav Thapa\n",
      "samir bhandari\n"
     ]
    }
   ],
   "source": [
    "for row in df[\"Name:\"]:\n",
    "    print(row)"
   ]
  },
  {
   "cell_type": "code",
   "execution_count": 21,
   "id": "f2b14965",
   "metadata": {},
   "outputs": [],
   "source": [
    "df.sort_values([\"Name:\"],inplace = True)\n"
   ]
  },
  {
   "cell_type": "code",
   "execution_count": 19,
   "id": "7c95944e",
   "metadata": {},
   "outputs": [
    {
     "name": "stdout",
     "output_type": "stream",
     "text": [
      "12           Aagaman Kandel\n",
      "4          Aanand Kumar Sah\n",
      "42       Aayushman Bastola \n",
      "32          Abhinit Pradhan\n",
      "2               Adip Rijal \n",
      "29          Anish Bartaula \n",
      "9              Anjal Poudel\n",
      "41       Anmol Rajbhandari \n",
      "20           Anuj adhikari \n",
      "8           Anuska Acharya \n",
      "21           Ashim Adhikari\n",
      "23             Barun Lamsal\n",
      "17          Darshan Paudel \n",
      "38              Deepan K.C.\n",
      "24          Kapil Bhandari \n",
      "19          Kiran Dhungana \n",
      "27     Krishnaram Thapaliya\n",
      "10           Meghraj Poudel\n",
      "18             Nitu Purbey \n",
      "37           Prabhat Dhakal\n",
      "5            Pragya khanal \n",
      "0             Prakat Sharma\n",
      "15          Prakriti Subedi\n",
      "1             Pranjal Joshi\n",
      "36          Rebika Parajuli\n",
      "28         Rhydim Shrestha \n",
      "7             Sagun Bastola\n",
      "16            Saksham Rijal\n",
      "39           Salfet Sigdel \n",
      "33        Sarun Bishwakarma\n",
      "35         Saugat Bhattarai\n",
      "25          Shaswat Sigdel \n",
      "3        Shishir Bastakoti \n",
      "31       Sodiksha Upadhyaya\n",
      "14          Sudeesh Acharya\n",
      "40    Sujan Babu Dhungana  \n",
      "22          Sujeet Agrahari\n",
      "34         Sulochana Subedi\n",
      "26          Susan Chhantyal\n",
      "11          Swapnil Gautam \n",
      "6         Swarnim Ranabhat \n",
      "13              Utsav Thapa\n",
      "30           samir bhandari\n",
      "Name: Name:, dtype: object\n"
     ]
    }
   ],
   "source": [
    "print(df[\"Name:\"])"
   ]
  },
  {
   "cell_type": "markdown",
   "id": "190a4523",
   "metadata": {},
   "source": [
    "## Merging "
   ]
  },
  {
   "cell_type": "code",
   "execution_count": null,
   "id": "d5819e18",
   "metadata": {},
   "outputs": [],
   "source": []
  }
 ],
 "metadata": {
  "kernelspec": {
   "display_name": "Python 3 (ipykernel)",
   "language": "python",
   "name": "python3"
  },
  "language_info": {
   "codemirror_mode": {
    "name": "ipython",
    "version": 3
   },
   "file_extension": ".py",
   "mimetype": "text/x-python",
   "name": "python",
   "nbconvert_exporter": "python",
   "pygments_lexer": "ipython3",
   "version": "3.12.3"
  }
 },
 "nbformat": 4,
 "nbformat_minor": 5
}
