{
 "cells": [
  {
   "cell_type": "code",
   "execution_count": 1,
   "id": "02e63b8f",
   "metadata": {},
   "outputs": [],
   "source": [
    "import pandas as pd"
   ]
  },
  {
   "cell_type": "code",
   "execution_count": 4,
   "id": "0d9bf2fe",
   "metadata": {},
   "outputs": [],
   "source": [
    "names = {\n",
    "    'Roll NO': [40, 31, 7, 23, 35, 36] ,\n",
    "    'Names': ['Sandy', 'John', 'Anna', 'Oppa', 'Doe', 'Belle']\n",
    "}\n",
    "ages= {\n",
    "    'Roll NO' : [3, 7, 48, 32, 40, 9],\n",
    "    'Age': [19, 20, 21, 18, 19, 30]\n",
    "}"
   ]
  },
  {
   "cell_type": "code",
   "execution_count": 5,
   "id": "9a719fe0",
   "metadata": {},
   "outputs": [],
   "source": [
    "df1 = pd.DataFrame(names)\n",
    "df2 = pd.DataFrame(ages)"
   ]
  },
  {
   "cell_type": "markdown",
   "id": "19b48af1",
   "metadata": {},
   "source": [
    "## Merging in Pandas\n",
    "Merging in pandas is a powerful feature that allows you to combine data from multiple DataFrames.It has following parameters:\n",
    "### on:- \n",
    "Column or index level names to join on. These must be found in both DataFrames.\n",
    "### how:-\n",
    "Type of merge to be performed. *left , right, outer, inner, cross,* default= 'inner'\n",
    "\n",
    "__left__ - use only keys from left frame\n",
    "\n",
    "__right__ - use only keys from right frame\n",
    "\n",
    "__outer__ - use union of keys from both frames\n",
    "\n",
    "__inner__ - use intersection of keys from both frames\n",
    "\n",
    "__cross__ - creates the cartesian product from both frames, preserves the order of the left keys\n",
    "\n"
   ]
  },
  {
   "cell_type": "code",
   "execution_count": 18,
   "id": "e772ccd8",
   "metadata": {},
   "outputs": [],
   "source": [
    "#merging these two  in one dataframe\n",
    "df = pd.merge(df1, df2, on = 'Roll NO',how = 'outer' )\n",
    "df.set_index('Roll NO', inplace = True)"
   ]
  },
  {
   "cell_type": "code",
   "execution_count": 19,
   "id": "05fd8936",
   "metadata": {},
   "outputs": [
    {
     "data": {
      "text/html": [
       "<div>\n",
       "<style scoped>\n",
       "    .dataframe tbody tr th:only-of-type {\n",
       "        vertical-align: middle;\n",
       "    }\n",
       "\n",
       "    .dataframe tbody tr th {\n",
       "        vertical-align: top;\n",
       "    }\n",
       "\n",
       "    .dataframe thead th {\n",
       "        text-align: right;\n",
       "    }\n",
       "</style>\n",
       "<table border=\"1\" class=\"dataframe\">\n",
       "  <thead>\n",
       "    <tr style=\"text-align: right;\">\n",
       "      <th></th>\n",
       "      <th>Names</th>\n",
       "      <th>Age</th>\n",
       "    </tr>\n",
       "    <tr>\n",
       "      <th>Roll NO</th>\n",
       "      <th></th>\n",
       "      <th></th>\n",
       "    </tr>\n",
       "  </thead>\n",
       "  <tbody>\n",
       "    <tr>\n",
       "      <th>40</th>\n",
       "      <td>Sandy</td>\n",
       "      <td>19.0</td>\n",
       "    </tr>\n",
       "    <tr>\n",
       "      <th>31</th>\n",
       "      <td>John</td>\n",
       "      <td>NaN</td>\n",
       "    </tr>\n",
       "    <tr>\n",
       "      <th>7</th>\n",
       "      <td>Anna</td>\n",
       "      <td>20.0</td>\n",
       "    </tr>\n",
       "    <tr>\n",
       "      <th>23</th>\n",
       "      <td>Oppa</td>\n",
       "      <td>NaN</td>\n",
       "    </tr>\n",
       "    <tr>\n",
       "      <th>35</th>\n",
       "      <td>Doe</td>\n",
       "      <td>NaN</td>\n",
       "    </tr>\n",
       "    <tr>\n",
       "      <th>36</th>\n",
       "      <td>Belle</td>\n",
       "      <td>NaN</td>\n",
       "    </tr>\n",
       "    <tr>\n",
       "      <th>3</th>\n",
       "      <td>NaN</td>\n",
       "      <td>19.0</td>\n",
       "    </tr>\n",
       "    <tr>\n",
       "      <th>48</th>\n",
       "      <td>NaN</td>\n",
       "      <td>21.0</td>\n",
       "    </tr>\n",
       "    <tr>\n",
       "      <th>32</th>\n",
       "      <td>NaN</td>\n",
       "      <td>18.0</td>\n",
       "    </tr>\n",
       "    <tr>\n",
       "      <th>9</th>\n",
       "      <td>NaN</td>\n",
       "      <td>30.0</td>\n",
       "    </tr>\n",
       "  </tbody>\n",
       "</table>\n",
       "</div>"
      ],
      "text/plain": [
       "         Names   Age\n",
       "Roll NO             \n",
       "40       Sandy  19.0\n",
       "31        John   NaN\n",
       "7         Anna  20.0\n",
       "23        Oppa   NaN\n",
       "35         Doe   NaN\n",
       "36       Belle   NaN\n",
       "3          NaN  19.0\n",
       "48         NaN  21.0\n",
       "32         NaN  18.0\n",
       "9          NaN  30.0"
      ]
     },
     "execution_count": 19,
     "metadata": {},
     "output_type": "execute_result"
    }
   ],
   "source": [
    "df #NaN = Not a number i.e. missing values"
   ]
  }
 ],
 "metadata": {
  "kernelspec": {
   "display_name": "Python 3 (ipykernel)",
   "language": "python",
   "name": "python3"
  },
  "language_info": {
   "codemirror_mode": {
    "name": "ipython",
    "version": 3
   },
   "file_extension": ".py",
   "mimetype": "text/x-python",
   "name": "python",
   "nbconvert_exporter": "python",
   "pygments_lexer": "ipython3",
   "version": "3.12.3"
  }
 },
 "nbformat": 4,
 "nbformat_minor": 5
}
